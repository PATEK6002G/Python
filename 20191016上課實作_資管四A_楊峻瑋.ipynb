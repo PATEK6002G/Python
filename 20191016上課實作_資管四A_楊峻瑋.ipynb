{
 "cells": [
  {
   "cell_type": "markdown",
   "metadata": {},
   "source": [
    "## 實作練習1"
   ]
  },
  {
   "cell_type": "code",
   "execution_count": 2,
   "metadata": {},
   "outputs": [
    {
     "name": "stdout",
     "output_type": "stream",
     "text": [
      "請輸入成績：50\n",
      "丁等\n"
     ]
    }
   ],
   "source": [
    "score = input(\"請輸入成績：\")\n",
    "\n",
    "if(int(score) >= 90):\n",
    "   print(\"優等\") \n",
    "elif(int(score) >= 80):\n",
    "   print(\"甲等\")\n",
    "elif(int(score) >= 70):\n",
    "   print(\"乙等\")\n",
    "elif(int(score) >= 60):\n",
    "   print(\"丙等\")\n",
    "else:\n",
    "   print(\"丁等\")   "
   ]
  },
  {
   "cell_type": "markdown",
   "metadata": {},
   "source": [
    "## 實作練習2"
   ]
  },
  {
   "cell_type": "code",
   "execution_count": 1,
   "metadata": {},
   "outputs": [
    {
     "name": "stdout",
     "output_type": "stream",
     "text": [
      "請輸入正整數：10\n",
      "55\n"
     ]
    }
   ],
   "source": [
    "sum = 0\n",
    "n = int(input(\"請輸入正整數：\"))\n",
    "\n",
    "for i in range(n+1):\n",
    "    sum += i\n",
    "\n",
    "print(sum)    "
   ]
  },
  {
   "cell_type": "markdown",
   "metadata": {},
   "source": [
    "## 實作練習5"
   ]
  },
  {
   "cell_type": "code",
   "execution_count": 7,
   "metadata": {},
   "outputs": [
    {
     "name": "stdout",
     "output_type": "stream",
     "text": [
      "請輸入正整數：20\n",
      "1 2 3 4 6 7 8 9 11 12 13 14 16 17 18 19 "
     ]
    }
   ],
   "source": [
    "n = int(input(\"請輸入正整數：\"))\n",
    "\n",
    "for i in range(1, n+1):\n",
    "    if(i % 5 == 0):\n",
    "        continue\n",
    "    print(i, end=\" \")"
   ]
  },
  {
   "cell_type": "markdown",
   "metadata": {},
   "source": [
    "## 實作練習6"
   ]
  },
  {
   "cell_type": "code",
   "execution_count": 33,
   "metadata": {},
   "outputs": [
    {
     "name": "stdout",
     "output_type": "stream",
     "text": [
      "請輸入正整數n的值：6\n",
      "6 != 720\n"
     ]
    }
   ],
   "source": [
    "sum = 1\n",
    "n = int(input(\"請輸入正整數n的值：\"))\n",
    "a = n\n",
    "\n",
    "while(n > 0):\n",
    "    sum *= n\n",
    "    n -= 1\n",
    "    \n",
    "print(a, \"!=\", sum)"
   ]
  },
  {
   "cell_type": "code",
   "execution_count": null,
   "metadata": {},
   "outputs": [],
   "source": []
  },
  {
   "cell_type": "code",
   "execution_count": null,
   "metadata": {},
   "outputs": [],
   "source": []
  }
 ],
 "metadata": {
  "kernelspec": {
   "display_name": "Python 3",
   "language": "python",
   "name": "python3"
  },
  "language_info": {
   "codemirror_mode": {
    "name": "ipython",
    "version": 3
   },
   "file_extension": ".py",
   "mimetype": "text/x-python",
   "name": "python",
   "nbconvert_exporter": "python",
   "pygments_lexer": "ipython3",
   "version": "3.7.4"
  }
 },
 "nbformat": 4,
 "nbformat_minor": 2
}
